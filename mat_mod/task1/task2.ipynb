{
 "cells": [
  {
   "cell_type": "code",
   "execution_count": 1,
   "id": "0d0161b8-2237-4a69-a22c-a910328a6bb7",
   "metadata": {},
   "outputs": [],
   "source": [
    "import sympy as sp"
   ]
  },
  {
   "cell_type": "code",
   "execution_count": 12,
   "id": "81eb4d39-a492-468b-92fa-f2456b8b59e3",
   "metadata": {},
   "outputs": [],
   "source": [
    "x = [[50,60,80],[25,80,40],[25,60,40]]"
   ]
  },
  {
   "cell_type": "code",
   "execution_count": 13,
   "id": "2f311924-93d6-4cca-88f3-aad2efc9c653",
   "metadata": {},
   "outputs": [
    {
     "data": {
      "text/plain": [
       "[[50, 60, 80], [25, 80, 40], [25, 60, 40]]"
      ]
     },
     "execution_count": 13,
     "metadata": {},
     "output_type": "execute_result"
    }
   ],
   "source": [
    "x"
   ]
  },
  {
   "cell_type": "code",
   "execution_count": 14,
   "id": "1f7f0a06-31b2-4f79-a190-fbfa34242ce9",
   "metadata": {},
   "outputs": [],
   "source": [
    "Y = [60,30,15]"
   ]
  },
  {
   "cell_type": "code",
   "execution_count": 15,
   "id": "54355dca-1687-489f-afb3-61dc56838d25",
   "metadata": {},
   "outputs": [
    {
     "data": {
      "text/plain": [
       "[60, 30, 15]"
      ]
     },
     "execution_count": 15,
     "metadata": {},
     "output_type": "execute_result"
    }
   ],
   "source": [
    "Y"
   ]
  },
  {
   "cell_type": "code",
   "execution_count": 19,
   "id": "09228c7f-5900-433b-9704-e16e7bda4102",
   "metadata": {},
   "outputs": [],
   "source": [
    "X = [(sum(xi)+Yi) for xi,Yi in zip(x,Y)]"
   ]
  },
  {
   "cell_type": "code",
   "execution_count": 20,
   "id": "2c53ea78-c1b7-4cc7-97e3-23b6fb87ef52",
   "metadata": {},
   "outputs": [
    {
     "data": {
      "text/plain": [
       "[250, 175, 140]"
      ]
     },
     "execution_count": 20,
     "metadata": {},
     "output_type": "execute_result"
    }
   ],
   "source": [
    "X"
   ]
  },
  {
   "cell_type": "code",
   "execution_count": 21,
   "id": "400724aa-3236-413b-94c5-ea6a1bcb26e4",
   "metadata": {},
   "outputs": [],
   "source": [
    "A = [[x[i][j]/X[j] for j in range(len(x)) ]for i in range(len(x))]"
   ]
  },
  {
   "cell_type": "code",
   "execution_count": 22,
   "id": "0e4bf145-9957-40ee-a823-06a13ac60329",
   "metadata": {},
   "outputs": [
    {
     "data": {
      "text/plain": [
       "[[0.2, 0.34285714285714286, 0.5714285714285714],\n",
       " [0.1, 0.45714285714285713, 0.2857142857142857],\n",
       " [0.1, 0.34285714285714286, 0.2857142857142857]]"
      ]
     },
     "execution_count": 22,
     "metadata": {},
     "output_type": "execute_result"
    }
   ],
   "source": [
    "A"
   ]
  },
  {
   "cell_type": "code",
   "execution_count": null,
   "id": "5f69bbf5-835a-4f2b-be71-7e763eedab58",
   "metadata": {},
   "outputs": [],
   "source": []
  }
 ],
 "metadata": {
  "kernelspec": {
   "display_name": "Python 3 (ipykernel)",
   "language": "python",
   "name": "python3"
  },
  "language_info": {
   "codemirror_mode": {
    "name": "ipython",
    "version": 3
   },
   "file_extension": ".py",
   "mimetype": "text/x-python",
   "name": "python",
   "nbconvert_exporter": "python",
   "pygments_lexer": "ipython3",
   "version": "3.12.5"
  }
 },
 "nbformat": 4,
 "nbformat_minor": 5
}
