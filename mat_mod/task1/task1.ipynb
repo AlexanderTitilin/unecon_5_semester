{
 "cells": [
  {
   "cell_type": "code",
   "execution_count": 1,
   "id": "d5d358ff-cf27-4290-b632-e4bda05125d3",
   "metadata": {},
   "outputs": [],
   "source": [
    "import sympy as sp"
   ]
  },
  {
   "cell_type": "code",
   "execution_count": 2,
   "id": "2fe130f8-7700-4d6e-bab1-362033bde566",
   "metadata": {},
   "outputs": [],
   "source": [
    "x1,x2,x3 = sp.symbols(\"x_1 x_2 x_3\")"
   ]
  },
  {
   "cell_type": "code",
   "execution_count": 3,
   "id": "7a26c6a4-7408-46a1-87fa-cae9c2b60938",
   "metadata": {},
   "outputs": [],
   "source": [
    "A = sp.Matrix([[0.1,0.2,0],[0,0.3,0.2],[0.1,0,0.3]])"
   ]
  },
  {
   "cell_type": "code",
   "execution_count": 4,
   "id": "79b99810-f66f-4d88-b023-ae6eb5f7c9a8",
   "metadata": {},
   "outputs": [
    {
     "data": {
      "text/latex": [
       "$\\displaystyle \\left[\\begin{matrix}0.1 & 0.2 & 0\\\\0 & 0.3 & 0.2\\\\0.1 & 0 & 0.3\\end{matrix}\\right]$"
      ],
      "text/plain": [
       "Matrix([\n",
       "[0.1, 0.2,   0],\n",
       "[  0, 0.3, 0.2],\n",
       "[0.1,   0, 0.3]])"
      ]
     },
     "execution_count": 4,
     "metadata": {},
     "output_type": "execute_result"
    }
   ],
   "source": [
    "A"
   ]
  },
  {
   "cell_type": "code",
   "execution_count": 12,
   "id": "23d25ece-c60d-4c8d-b8b9-e3c878de3215",
   "metadata": {},
   "outputs": [],
   "source": [
    "Y = sp.Matrix([100,200,50]).reshape(3,1)"
   ]
  },
  {
   "cell_type": "code",
   "execution_count": 13,
   "id": "fae1a29c-0ac4-4e11-ab34-670fd76f0b7d",
   "metadata": {},
   "outputs": [
    {
     "data": {
      "text/latex": [
       "$\\displaystyle \\left[\\begin{matrix}100\\\\200\\\\50\\end{matrix}\\right]$"
      ],
      "text/plain": [
       "Matrix([\n",
       "[100],\n",
       "[200],\n",
       "[ 50]])"
      ]
     },
     "execution_count": 13,
     "metadata": {},
     "output_type": "execute_result"
    }
   ],
   "source": [
    "Y"
   ]
  },
  {
   "cell_type": "code",
   "execution_count": 14,
   "id": "547d7f71-cefe-4a67-9f8a-6ab843af7bc5",
   "metadata": {},
   "outputs": [],
   "source": [
    "X = (sp.eye(3) - A).solve(Y)"
   ]
  },
  {
   "cell_type": "code",
   "execution_count": 15,
   "id": "ffecf38f-9125-4492-a8ac-7e52c501bf84",
   "metadata": {},
   "outputs": [
    {
     "data": {
      "text/latex": [
       "$\\displaystyle \\left[\\begin{matrix}180.778032036613\\\\313.50114416476\\\\97.2540045766591\\end{matrix}\\right]$"
      ],
      "text/plain": [
       "Matrix([\n",
       "[180.778032036613],\n",
       "[ 313.50114416476],\n",
       "[97.2540045766591]])"
      ]
     },
     "execution_count": 15,
     "metadata": {},
     "output_type": "execute_result"
    }
   ],
   "source": [
    "X"
   ]
  },
  {
   "cell_type": "code",
   "execution_count": null,
   "id": "4f9d5674-e33a-4530-9b31-805f3eda0a85",
   "metadata": {},
   "outputs": [],
   "source": []
  }
 ],
 "metadata": {
  "kernelspec": {
   "display_name": "Python 3 (ipykernel)",
   "language": "python",
   "name": "python3"
  },
  "language_info": {
   "codemirror_mode": {
    "name": "ipython",
    "version": 3
   },
   "file_extension": ".py",
   "mimetype": "text/x-python",
   "name": "python",
   "nbconvert_exporter": "python",
   "pygments_lexer": "ipython3",
   "version": "3.12.5"
  }
 },
 "nbformat": 4,
 "nbformat_minor": 5
}
