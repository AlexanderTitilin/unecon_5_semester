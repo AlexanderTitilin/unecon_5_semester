{
 "cells": [
  {
   "cell_type": "code",
   "execution_count": 1,
   "id": "2089eb4f-63a7-4fb5-a881-fd8a188d9eab",
   "metadata": {},
   "outputs": [],
   "source": [
    "import matplotlib.pyplot as plt"
   ]
  },
  {
   "cell_type": "code",
   "execution_count": 2,
   "id": "53d61df0-4ca0-4be7-b6b8-d268ebec48b0",
   "metadata": {},
   "outputs": [],
   "source": [
    "import pandas as pd"
   ]
  },
  {
   "cell_type": "code",
   "execution_count": 3,
   "id": "0d9b30ec-2526-469e-a55c-dec070c067c2",
   "metadata": {},
   "outputs": [],
   "source": [
    "import numpy as np"
   ]
  },
  {
   "cell_type": "code",
   "execution_count": 4,
   "id": "4fb26c57-c282-44dd-ba3d-8236702bef23",
   "metadata": {},
   "outputs": [],
   "source": [
    "df = pd.read_excel(\"usa1936-50.xls\")"
   ]
  },
  {
   "cell_type": "code",
   "execution_count": 5,
   "id": "0e42d86a-2307-42b5-928e-937f6c1ff9a9",
   "metadata": {},
   "outputs": [
    {
     "data": {
      "text/html": [
       "<div>\n",
       "<style scoped>\n",
       "    .dataframe tbody tr th:only-of-type {\n",
       "        vertical-align: middle;\n",
       "    }\n",
       "\n",
       "    .dataframe tbody tr th {\n",
       "        vertical-align: top;\n",
       "    }\n",
       "\n",
       "    .dataframe thead th {\n",
       "        text-align: right;\n",
       "    }\n",
       "</style>\n",
       "<table border=\"1\" class=\"dataframe\">\n",
       "  <thead>\n",
       "    <tr style=\"text-align: right;\">\n",
       "      <th></th>\n",
       "      <th>Экономика США</th>\n",
       "      <th>Unnamed: 1</th>\n",
       "      <th>Unnamed: 2</th>\n",
       "      <th>Unnamed: 3</th>\n",
       "      <th>Unnamed: 4</th>\n",
       "      <th>Unnamed: 5</th>\n",
       "      <th>Unnamed: 6</th>\n",
       "      <th>Unnamed: 7</th>\n",
       "      <th>Unnamed: 8</th>\n",
       "    </tr>\n",
       "  </thead>\n",
       "  <tbody>\n",
       "    <tr>\n",
       "      <th>0</th>\n",
       "      <td>Год</td>\n",
       "      <td>ВВП(млн.$)</td>\n",
       "      <td>K(млн.$)</td>\n",
       "      <td>L(тыс.чел.)</td>\n",
       "      <td>NaN</td>\n",
       "      <td>NaN</td>\n",
       "      <td>log(Y)</td>\n",
       "      <td>log(K)</td>\n",
       "      <td>log(L)</td>\n",
       "    </tr>\n",
       "    <tr>\n",
       "      <th>1</th>\n",
       "      <td>1936</td>\n",
       "      <td>83278</td>\n",
       "      <td>234236</td>\n",
       "      <td>73426</td>\n",
       "      <td>NaN</td>\n",
       "      <td>NaN</td>\n",
       "      <td>4.92053</td>\n",
       "      <td>5.369654</td>\n",
       "      <td>4.86585</td>\n",
       "    </tr>\n",
       "    <tr>\n",
       "      <th>2</th>\n",
       "      <td>1937</td>\n",
       "      <td>90884</td>\n",
       "      <td>254890</td>\n",
       "      <td>77568</td>\n",
       "      <td>NaN</td>\n",
       "      <td>NaN</td>\n",
       "      <td>4.958487</td>\n",
       "      <td>5.406353</td>\n",
       "      <td>4.889683</td>\n",
       "    </tr>\n",
       "    <tr>\n",
       "      <th>3</th>\n",
       "      <td>1938</td>\n",
       "      <td>83743</td>\n",
       "      <td>217606</td>\n",
       "      <td>70460</td>\n",
       "      <td>NaN</td>\n",
       "      <td>NaN</td>\n",
       "      <td>4.922949</td>\n",
       "      <td>5.337671</td>\n",
       "      <td>4.847943</td>\n",
       "    </tr>\n",
       "    <tr>\n",
       "      <th>4</th>\n",
       "      <td>1939</td>\n",
       "      <td>91530</td>\n",
       "      <td>221746</td>\n",
       "      <td>75131</td>\n",
       "      <td>NaN</td>\n",
       "      <td>NaN</td>\n",
       "      <td>4.961563</td>\n",
       "      <td>5.345856</td>\n",
       "      <td>4.875819</td>\n",
       "    </tr>\n",
       "    <tr>\n",
       "      <th>5</th>\n",
       "      <td>1940</td>\n",
       "      <td>101313</td>\n",
       "      <td>228757</td>\n",
       "      <td>79694</td>\n",
       "      <td>NaN</td>\n",
       "      <td>NaN</td>\n",
       "      <td>5.005665</td>\n",
       "      <td>5.359374</td>\n",
       "      <td>4.901426</td>\n",
       "    </tr>\n",
       "    <tr>\n",
       "      <th>6</th>\n",
       "      <td>1941</td>\n",
       "      <td>116415</td>\n",
       "      <td>250238</td>\n",
       "      <td>89276</td>\n",
       "      <td>NaN</td>\n",
       "      <td>NaN</td>\n",
       "      <td>5.066009</td>\n",
       "      <td>5.398353</td>\n",
       "      <td>4.950735</td>\n",
       "    </tr>\n",
       "    <tr>\n",
       "      <th>7</th>\n",
       "      <td>1942</td>\n",
       "      <td>127434</td>\n",
       "      <td>266469</td>\n",
       "      <td>97056</td>\n",
       "      <td>NaN</td>\n",
       "      <td>NaN</td>\n",
       "      <td>5.105285</td>\n",
       "      <td>5.425647</td>\n",
       "      <td>4.987022</td>\n",
       "    </tr>\n",
       "    <tr>\n",
       "      <th>8</th>\n",
       "      <td>1943</td>\n",
       "      <td>136274</td>\n",
       "      <td>266154</td>\n",
       "      <td>101633</td>\n",
       "      <td>NaN</td>\n",
       "      <td>NaN</td>\n",
       "      <td>5.134413</td>\n",
       "      <td>5.425133</td>\n",
       "      <td>5.007035</td>\n",
       "    </tr>\n",
       "    <tr>\n",
       "      <th>9</th>\n",
       "      <td>1944</td>\n",
       "      <td>146470</td>\n",
       "      <td>269520</td>\n",
       "      <td>100124</td>\n",
       "      <td>NaN</td>\n",
       "      <td>NaN</td>\n",
       "      <td>5.165749</td>\n",
       "      <td>5.430591</td>\n",
       "      <td>5.000538</td>\n",
       "    </tr>\n",
       "    <tr>\n",
       "      <th>10</th>\n",
       "      <td>1945</td>\n",
       "      <td>145052</td>\n",
       "      <td>263098</td>\n",
       "      <td>94920</td>\n",
       "      <td>NaN</td>\n",
       "      <td>NaN</td>\n",
       "      <td>5.161524</td>\n",
       "      <td>5.420118</td>\n",
       "      <td>4.977358</td>\n",
       "    </tr>\n",
       "    <tr>\n",
       "      <th>11</th>\n",
       "      <td>1946</td>\n",
       "      <td>140288</td>\n",
       "      <td>252357</td>\n",
       "      <td>96671</td>\n",
       "      <td>NaN</td>\n",
       "      <td>NaN</td>\n",
       "      <td>5.147021</td>\n",
       "      <td>5.402015</td>\n",
       "      <td>4.985296</td>\n",
       "    </tr>\n",
       "    <tr>\n",
       "      <th>12</th>\n",
       "      <td>1947</td>\n",
       "      <td>142022</td>\n",
       "      <td>262536</td>\n",
       "      <td>100072</td>\n",
       "      <td>NaN</td>\n",
       "      <td>NaN</td>\n",
       "      <td>5.152356</td>\n",
       "      <td>5.419189</td>\n",
       "      <td>5.000313</td>\n",
       "    </tr>\n",
       "    <tr>\n",
       "      <th>13</th>\n",
       "      <td>1948</td>\n",
       "      <td>149895</td>\n",
       "      <td>285700</td>\n",
       "      <td>101304</td>\n",
       "      <td>NaN</td>\n",
       "      <td>NaN</td>\n",
       "      <td>5.175787</td>\n",
       "      <td>5.45591</td>\n",
       "      <td>5.005627</td>\n",
       "    </tr>\n",
       "    <tr>\n",
       "      <th>14</th>\n",
       "      <td>1949</td>\n",
       "      <td>147122</td>\n",
       "      <td>277522</td>\n",
       "      <td>96784</td>\n",
       "      <td>NaN</td>\n",
       "      <td>NaN</td>\n",
       "      <td>5.167678</td>\n",
       "      <td>5.443297</td>\n",
       "      <td>4.985804</td>\n",
       "    </tr>\n",
       "    <tr>\n",
       "      <th>15</th>\n",
       "      <td>1950</td>\n",
       "      <td>163620</td>\n",
       "      <td>307946</td>\n",
       "      <td>100352</td>\n",
       "      <td>NaN</td>\n",
       "      <td>NaN</td>\n",
       "      <td>5.213836</td>\n",
       "      <td>5.488475</td>\n",
       "      <td>5.001526</td>\n",
       "    </tr>\n",
       "    <tr>\n",
       "      <th>16</th>\n",
       "      <td>NaN</td>\n",
       "      <td>NaN</td>\n",
       "      <td>NaN</td>\n",
       "      <td>NaN</td>\n",
       "      <td>NaN</td>\n",
       "      <td>NaN</td>\n",
       "      <td>NaN</td>\n",
       "      <td>NaN</td>\n",
       "      <td>NaN</td>\n",
       "    </tr>\n",
       "    <tr>\n",
       "      <th>17</th>\n",
       "      <td>NaN</td>\n",
       "      <td>NaN</td>\n",
       "      <td>NaN</td>\n",
       "      <td>NaN</td>\n",
       "      <td>NaN</td>\n",
       "      <td>NaN</td>\n",
       "      <td>NaN</td>\n",
       "      <td>NaN</td>\n",
       "      <td>NaN</td>\n",
       "    </tr>\n",
       "    <tr>\n",
       "      <th>18</th>\n",
       "      <td>NaN</td>\n",
       "      <td>NaN</td>\n",
       "      <td>NaN</td>\n",
       "      <td>NaN</td>\n",
       "      <td>NaN</td>\n",
       "      <td>NaN</td>\n",
       "      <td>NaN</td>\n",
       "      <td>NaN</td>\n",
       "      <td>NaN</td>\n",
       "    </tr>\n",
       "    <tr>\n",
       "      <th>19</th>\n",
       "      <td>NaN</td>\n",
       "      <td>NaN</td>\n",
       "      <td>NaN</td>\n",
       "      <td>NaN</td>\n",
       "      <td>NaN</td>\n",
       "      <td>NaN</td>\n",
       "      <td>NaN</td>\n",
       "      <td>NaN</td>\n",
       "      <td>NaN</td>\n",
       "    </tr>\n",
       "    <tr>\n",
       "      <th>20</th>\n",
       "      <td>15</td>\n",
       "      <td>81.127635</td>\n",
       "      <td>NaN</td>\n",
       "      <td>NaN</td>\n",
       "      <td>NaN</td>\n",
       "      <td>NaN</td>\n",
       "      <td>NaN</td>\n",
       "      <td>NaN</td>\n",
       "      <td>NaN</td>\n",
       "    </tr>\n",
       "  </tbody>\n",
       "</table>\n",
       "</div>"
      ],
      "text/plain": [
       "   Экономика США  Unnamed: 1 Unnamed: 2   Unnamed: 3  Unnamed: 4  Unnamed: 5  \\\n",
       "0            Год  ВВП(млн.$)   K(млн.$)  L(тыс.чел.)         NaN         NaN   \n",
       "1           1936       83278     234236        73426         NaN         NaN   \n",
       "2           1937       90884     254890        77568         NaN         NaN   \n",
       "3           1938       83743     217606        70460         NaN         NaN   \n",
       "4           1939       91530     221746        75131         NaN         NaN   \n",
       "5           1940      101313     228757        79694         NaN         NaN   \n",
       "6           1941      116415     250238        89276         NaN         NaN   \n",
       "7           1942      127434     266469        97056         NaN         NaN   \n",
       "8           1943      136274     266154       101633         NaN         NaN   \n",
       "9           1944      146470     269520       100124         NaN         NaN   \n",
       "10          1945      145052     263098        94920         NaN         NaN   \n",
       "11          1946      140288     252357        96671         NaN         NaN   \n",
       "12          1947      142022     262536       100072         NaN         NaN   \n",
       "13          1948      149895     285700       101304         NaN         NaN   \n",
       "14          1949      147122     277522        96784         NaN         NaN   \n",
       "15          1950      163620     307946       100352         NaN         NaN   \n",
       "16           NaN         NaN        NaN          NaN         NaN         NaN   \n",
       "17           NaN         NaN        NaN          NaN         NaN         NaN   \n",
       "18           NaN         NaN        NaN          NaN         NaN         NaN   \n",
       "19           NaN         NaN        NaN          NaN         NaN         NaN   \n",
       "20            15   81.127635        NaN          NaN         NaN         NaN   \n",
       "\n",
       "   Unnamed: 6 Unnamed: 7 Unnamed: 8  \n",
       "0      log(Y)     log(K)     log(L)  \n",
       "1     4.92053   5.369654    4.86585  \n",
       "2    4.958487   5.406353   4.889683  \n",
       "3    4.922949   5.337671   4.847943  \n",
       "4    4.961563   5.345856   4.875819  \n",
       "5    5.005665   5.359374   4.901426  \n",
       "6    5.066009   5.398353   4.950735  \n",
       "7    5.105285   5.425647   4.987022  \n",
       "8    5.134413   5.425133   5.007035  \n",
       "9    5.165749   5.430591   5.000538  \n",
       "10   5.161524   5.420118   4.977358  \n",
       "11   5.147021   5.402015   4.985296  \n",
       "12   5.152356   5.419189   5.000313  \n",
       "13   5.175787    5.45591   5.005627  \n",
       "14   5.167678   5.443297   4.985804  \n",
       "15   5.213836   5.488475   5.001526  \n",
       "16        NaN        NaN        NaN  \n",
       "17        NaN        NaN        NaN  \n",
       "18        NaN        NaN        NaN  \n",
       "19        NaN        NaN        NaN  \n",
       "20        NaN        NaN        NaN  "
      ]
     },
     "execution_count": 5,
     "metadata": {},
     "output_type": "execute_result"
    }
   ],
   "source": [
    "df"
   ]
  },
  {
   "cell_type": "code",
   "execution_count": 9,
   "id": "a1f2f465-d3e4-447d-8609-0c16db69af47",
   "metadata": {},
   "outputs": [],
   "source": [
    "Y = df[df.columns[1]][1::].dropna().to_numpy(dtype=\"int\")"
   ]
  },
  {
   "cell_type": "code",
   "execution_count": 10,
   "id": "ac86bff2-6de4-44e9-91ba-3af1191c7997",
   "metadata": {},
   "outputs": [
    {
     "data": {
      "text/plain": [
       "array([ 83278,  90884,  83743,  91530, 101313, 116415, 127434, 136274,\n",
       "       146470, 145052, 140288, 142022, 149895, 147122, 163620,     81])"
      ]
     },
     "execution_count": 10,
     "metadata": {},
     "output_type": "execute_result"
    }
   ],
   "source": [
    "Y"
   ]
  },
  {
   "cell_type": "code",
   "execution_count": 8,
   "id": "5b091c72-5ec2-4874-934a-12cd3dc2af9b",
   "metadata": {},
   "outputs": [],
   "source": [
    "K = df[df.columns[2]][1::].to_numpy(dtype=\"int\")"
   ]
  },
  {
   "cell_type": "code",
   "execution_count": 9,
   "id": "9286e2d8-24f8-4989-a621-7ed6358af182",
   "metadata": {},
   "outputs": [
    {
     "data": {
      "text/plain": [
       "array([234236, 254890, 217606, 221746, 228757, 250238, 266469, 266154,\n",
       "       269520, 263098, 252357, 262536, 285700, 277522, 307946])"
      ]
     },
     "execution_count": 9,
     "metadata": {},
     "output_type": "execute_result"
    }
   ],
   "source": [
    "K"
   ]
  },
  {
   "cell_type": "code",
   "execution_count": 10,
   "id": "543d1359-acb9-41fe-aacc-5b21a95923e4",
   "metadata": {},
   "outputs": [],
   "source": [
    "L = df[df.columns[3]][1::].to_numpy(dtype=\"int\")"
   ]
  },
  {
   "cell_type": "code",
   "execution_count": 11,
   "id": "868c3a48-21fa-425f-a0af-e7961367e50b",
   "metadata": {},
   "outputs": [
    {
     "data": {
      "text/plain": [
       "array([ 73426,  77568,  70460,  75131,  79694,  89276,  97056, 101633,\n",
       "       100124,  94920,  96671, 100072, 101304,  96784, 100352])"
      ]
     },
     "execution_count": 11,
     "metadata": {},
     "output_type": "execute_result"
    }
   ],
   "source": [
    "L"
   ]
  },
  {
   "cell_type": "code",
   "execution_count": 12,
   "id": "14812011-be17-48bb-9081-9beaab47c183",
   "metadata": {},
   "outputs": [],
   "source": [
    "def cobb_douglas1(Y:np.array,K:np.array,L:np.array):\n",
    "    Y = np.log(Y)\n",
    "    K = np.log(K)\n",
    "    L = np.log(L)\n",
    "    M = len(Y)\n",
    "    mat = np.array([[M,np.sum(K),np.sum(L)],\n",
    "                    [np.sum(K),np.sum(K**2),np.sum(K*L)],\n",
    "                   [np.sum(L),np.sum(K*L),np.sum(L**2)]])\n",
    "    vec = np.array([np.sum(Y),\n",
    "                   np.sum(Y*K),\n",
    "                    np.sum(Y*L)])\n",
    "    A,alpha,beta = np.linalg.solve(mat,vec)\n",
    "    return np.e**A,alpha,beta\n",
    "    "
   ]
  },
  {
   "cell_type": "code",
   "execution_count": 13,
   "id": "34404773-d84e-4bf4-ac77-231e05728b3b",
   "metadata": {},
   "outputs": [],
   "source": [
    "A1,alpha1,beta1 = cobb_douglas1(Y,K,L)"
   ]
  },
  {
   "cell_type": "code",
   "execution_count": 14,
   "id": "0a84027d-971f-4b72-af4f-3e507d468d0c",
   "metadata": {},
   "outputs": [],
   "source": [
    "def cobb_douglas2(Y:np.array,K:np.array,L:np.array):\n",
    "    Z = np.log(Y/L)\n",
    "    U = np.log(K/L)\n",
    "    M = len(Y)\n",
    "    mat = np.array([[M,np.sum(U)],[np.sum(U),np.sum(U**2)]])\n",
    "    vec = np.array([np.sum(Z),np.sum(Z*U)])\n",
    "    A,alpha = np.linalg.solve(mat,vec)\n",
    "    return np.e**A,alpha"
   ]
  },
  {
   "cell_type": "code",
   "execution_count": 15,
   "id": "126b97b5-f591-4a34-ad6f-5844993fb12d",
   "metadata": {},
   "outputs": [],
   "source": [
    "A2,alpha2, = cobb_douglas2(Y,K,L)"
   ]
  },
  {
   "cell_type": "code",
   "execution_count": 16,
   "id": "4646e4f7-b386-433b-9f8f-dd717f676915",
   "metadata": {},
   "outputs": [],
   "source": [
    "def f1(K,L):\n",
    "    return A1* K**alpha1 * L**beta1"
   ]
  },
  {
   "cell_type": "code",
   "execution_count": 17,
   "id": "d8a2fb17-765c-483a-a945-f0def477fa4a",
   "metadata": {},
   "outputs": [],
   "source": [
    "def f2(K,L):\n",
    "    return A2 * K**alpha2 * L**(1 - alpha2)"
   ]
  },
  {
   "cell_type": "code",
   "execution_count": 18,
   "id": "9fad0d12-0157-4f0b-93ff-494f036bcfeb",
   "metadata": {},
   "outputs": [
    {
     "data": {
      "image/png": "[encoded data removed]",
      "text/plain": [
       "<Figure size 640x480 with 1 Axes>"
      ]
     },
     "metadata": {},
     "output_type": "display_data"
    }
   ],
   "source": [
    "plt.plot([f1(k,l) for k,l in zip(K,L)],label=\"Функция Кобба-Дугласа $\\\\alpha + \\\\beta \\\\neq 1$\")\n",
    "plt.plot(Y,\"o\",label=\"Исторические данные\")\n",
    "plt.legend(loc=\"upper right\")\n",
    "plt.savefig(\"cobb-douglas1.pdf\", format=\"pdf\", bbox_inches=\"tight\")\n",
    "plt.show()"
   ]
  },
  {
   "cell_type": "code",
   "execution_count": 19,
   "id": "8fcfcf0a-8909-431a-98df-0930e81c7092",
   "metadata": {},
   "outputs": [
    {
     "data": {
      "image/png": "[encoded data removed]",
      "text/plain": [
       "<Figure size 640x480 with 1 Axes>"
      ]
     },
     "metadata": {},
     "output_type": "display_data"
    }
   ],
   "source": [
    "plt.plot([f2(k,l) for k,l in zip(K,L)],label=\"Функция Кобба-Дугласа $\\\\alpha + \\\\beta = 1$\")\n",
    "plt.plot(Y,\"o\",label=\"Исторические данные\")\n",
    "plt.legend(loc=\"upper right\")\n",
    "plt.savefig(\"cobb-douglas2.pdf\", format=\"pdf\", bbox_inches=\"tight\")\n",
    "plt.show()"
   ]
  },
  {
   "cell_type": "code",
   "execution_count": 21,
   "id": "0d6ce821-f694-4a89-bd8b-e1a41440dd08",
   "metadata": {},
   "outputs": [],
   "source": [
    "def isokvanta(c1):\n",
    "    return lambda L:(c1/A1)**(1/alpha1)*L**(- beta1/alpha1)"
   ]
  },
  {
   "cell_type": "code",
   "execution_count": 22,
   "id": "685579b6-d711-42d1-b578-65d3c0bdbe88",
   "metadata": {},
   "outputs": [],
   "source": [
    "iso1 = isokvanta(Y[0])"
   ]
  },
  {
   "cell_type": "code",
   "execution_count": 23,
   "id": "9d1ebf1e-d5e7-4d22-b8e7-25539eb920e5",
   "metadata": {},
   "outputs": [],
   "source": [
    "iso2 = isokvanta(Y[1])"
   ]
  },
  {
   "cell_type": "code",
   "execution_count": 24,
   "id": "fd236377-09ba-40c4-a7b9-14045bf1f84b",
   "metadata": {},
   "outputs": [],
   "source": [
    "iso3 = isokvanta(Y[5])"
   ]
  },
  {
   "cell_type": "code",
   "execution_count": 40,
   "id": "afc3af1a-169c-454c-86b7-0411e22e78dc",
   "metadata": {},
   "outputs": [
    {
     "data": {
      "image/png": "[encoded data removed]",
      "text/plain": [
       "<Figure size 640x480 with 1 Axes>"
      ]
     },
     "metadata": {},
     "output_type": "display_data"
    }
   ],
   "source": [
    "plt.plot([iso1(Li) for Li in np.arange(70000,100000,5000)])\n",
    "plt.plot([iso2(Li) for Li in np.arange(70000,100000,5000)])\n",
    "plt.plot([iso3(Li) for Li in np.arange(70000,100000,5000)])\n",
    "plt.xticks(np.arange(6),np.arange(70000,100000,5000))\n",
    "plt.xlabel(\"L\")\n",
    "plt.ylabel(\"K\")\n",
    "plt.savefig(\"cobb-douglas3.pdf\", format=\"pdf\", bbox_inches=\"tight\")\n",
    "plt.show()"
   ]
  },
  {
   "cell_type": "code",
   "execution_count": null,
   "id": "29ff31a5-d941-45d2-a983-1b43086e2899",
   "metadata": {},
   "outputs": [],
   "source": []
  },
  {
   "cell_type": "code",
   "execution_count": null,
   "id": "26dac21b-b569-49de-b141-2b813a7d27f7",
   "metadata": {},
   "outputs": [],
   "source": []
  }
 ],
 "metadata": {
  "kernelspec": {
   "display_name": "Python 3 (ipykernel)",
   "language": "python",
   "name": "python3"
  },
  "language_info": {
   "codemirror_mode": {
    "name": "ipython",
    "version": 3
   },
   "file_extension": ".py",
   "mimetype": "text/x-python",
   "name": "python",
   "nbconvert_exporter": "python",
   "pygments_lexer": "ipython3",
   "version": "3.12.5"
  }
 },
 "nbformat": 4,
 "nbformat_minor": 5
}
